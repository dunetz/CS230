{
 "cells": [
  {
   "cell_type": "markdown",
   "metadata": {},
   "source": [
    "#### LSTM Model for Limit Order Book \n",
    "\n",
    "\n",
    "#### 1: Use DataLoader class to create training and dev data sets from zipped files stored in data folder.\n",
    "\n",
    "#### 2: Build and compile model using model class based on configuration in config file.\n",
    "\n",
    "#### 3: Use GenerateBatch class to create itereator to feed batches of sequences of x and y train/val data into model\n",
    "\n",
    "#### 4: Train model using train_generator method from model class\n",
    "\n",
    "#### 5: Plot train loss vs val loss\n",
    "\n",
    "#### 6: Make training and validation predictions using same sequence lengths and batch sizes\n",
    "\n",
    "#### 7: Compute Precision/Recall/F1 statistics and Cohen Kappa\n"
   ]
  },
  {
   "cell_type": "code",
   "execution_count": 1,
   "metadata": {
    "collapsed": true
   },
   "outputs": [],
   "source": [
    "import pandas as pd\n",
    "import numpy as np\n",
    "import matplotlib.pylab as plt\n",
    "import time\n",
    "import json\n",
    "%matplotlib inline\n",
    "# \n",
    "from sklearn.metrics import confusion_matrix, classification_report, cohen_kappa_score"
   ]
  },
  {
   "cell_type": "code",
   "execution_count": 2,
   "metadata": {},
   "outputs": [
    {
     "name": "stderr",
     "output_type": "stream",
     "text": [
      "/anaconda3/lib/python3.6/site-packages/h5py/__init__.py:34: FutureWarning: Conversion of the second argument of issubdtype from `float` to `np.floating` is deprecated. In future, it will be treated as `np.float64 == np.dtype(float).type`.\n",
      "  from ._conv import register_converters as _register_converters\n",
      "Using TensorFlow backend.\n"
     ]
    }
   ],
   "source": [
    "import os; \n",
    "#work-around to allow import from directory on same level\n",
    "os.sys.path.append(os.path.dirname(os.path.abspath('.')))\n",
    "from input.DataLoader import DataLoader\n",
    "from input.GenerateBatch import GenerateBatch\n",
    "from model.Model import Model"
   ]
  },
  {
   "cell_type": "code",
   "execution_count": 3,
   "metadata": {
    "collapsed": true
   },
   "outputs": [],
   "source": [
    "from sklearn.preprocessing import MinMaxScaler\n",
    "from keras.models import Sequential\n",
    "from keras.layers import LSTM, Dense, TimeDistributed, Bidirectional, Dropout\n",
    "from keras.utils import to_categorical\n",
    "from keras.metrics import categorical_crossentropy\n",
    "from sklearn.metrics import accuracy_score\n",
    "from scipy.stats import linregress\n",
    "from sklearn.utils import shuffle"
   ]
  },
  {
   "cell_type": "code",
   "execution_count": 4,
   "metadata": {
    "collapsed": true
   },
   "outputs": [],
   "source": [
    "# recover training and test data from zip files. Provide list of days for each\n",
    "traindays=[0,1,2] \n",
    "valdays=[3]\n",
    "\n",
    "path='data/'\n",
    "d=DataLoader(path)\n",
    "traindf=d.get_days(traindays)\n",
    "valdf=d.get_days(valdays)\n",
    "\n",
    "# Select X and Y training and dev data. Y is categorical\n",
    "trainx=traindf.iloc[:,range(40)].values\n",
    "trainy=to_categorical(traindf.iloc[:,148].values-1)\n",
    "valx=valdf.iloc[:,range(40)].values\n",
    "valy=to_categorical(valdf.iloc[:,148].values-1)\n"
   ]
  },
  {
   "cell_type": "code",
   "execution_count": 5,
   "metadata": {},
   "outputs": [
    {
     "name": "stdout",
     "output_type": "stream",
     "text": [
      "(106444, 40)\n",
      "(106444, 3)\n"
     ]
    }
   ],
   "source": [
    "print(trainx.shape)\n",
    "print(trainy.shape)"
   ]
  },
  {
   "cell_type": "code",
   "execution_count": 6,
   "metadata": {},
   "outputs": [
    {
     "name": "stdout",
     "output_type": "stream",
     "text": [
      "training {'sequence_length': 5, 'epochs': 10, 'batch_size': 25}\n",
      "model loss: categorical_crossentropy\n",
      "model optimizer: adam\n",
      "save dir: saved_models\n",
      "layer 0\n",
      "{'type': 'lstm', 'neurons': 50, 'input_timesteps': 5, 'input_dim': 40, 'return_seq': False}\n",
      "layer 1\n",
      "{'type': 'dropout', 'rate': 0.2}\n",
      "layer 2\n",
      "{'type': 'dense', 'neurons': 3, 'activation': 'softmax'}\n"
     ]
    }
   ],
   "source": [
    "configs = json.load(open('config.json', 'r'))\n",
    "if not os.path.exists(configs['model']['save_dir']): os.makedirs(configs['model']['save_dir'])\n",
    "print('training',configs['training'])\n",
    "print('model loss:',configs['model']['loss'])\n",
    "print('model optimizer:',configs['model']['optimizer'])\n",
    "print('save dir:',configs['model']['save_dir'])\n",
    "for i,j in enumerate(configs['model']['layers']):\n",
    "    print('layer %i' %i)\n",
    "    print(j)"
   ]
  },
  {
   "cell_type": "code",
   "execution_count": 7,
   "metadata": {},
   "outputs": [
    {
     "name": "stdout",
     "output_type": "stream",
     "text": [
      "[Model] Model Compiled\n",
      "Time taken: 0:00:00.221389\n",
      "_________________________________________________________________\n",
      "Layer (type)                 Output Shape              Param #   \n",
      "=================================================================\n",
      "lstm_1 (LSTM)                (None, 50)                18200     \n",
      "_________________________________________________________________\n",
      "dropout_1 (Dropout)          (None, 50)                0         \n",
      "_________________________________________________________________\n",
      "dense_1 (Dense)              (None, 3)                 153       \n",
      "=================================================================\n",
      "Total params: 18,353\n",
      "Trainable params: 18,353\n",
      "Non-trainable params: 0\n",
      "_________________________________________________________________\n"
     ]
    }
   ],
   "source": [
    "model = Model()\n",
    "model.build_model(configs)\n",
    "\n",
    "model.model.summary()"
   ]
  },
  {
   "cell_type": "code",
   "execution_count": 8,
   "metadata": {
    "collapsed": true
   },
   "outputs": [],
   "source": [
    "training_generator=GenerateBatch(trainx,trainy)\n",
    "#training_generator.GenerateBatch(configs['training']['sequence_length'],configs['training']['batch_size'])\n",
    "#using same sequence length and batch size for val data \n",
    "val_generator=GenerateBatch(valx,valy)\n",
    "#val_generator.GenerateBatch(configs['training']['sequence_length'],configs['training']['batch_size'])"
   ]
  },
  {
   "cell_type": "code",
   "execution_count": 9,
   "metadata": {},
   "outputs": [
    {
     "name": "stdout",
     "output_type": "stream",
     "text": [
      "4257\n",
      "4257 1480\n"
     ]
    }
   ],
   "source": [
    "# out-of memory generative training\n",
    "#steps_per_epoch = math.ceil((data.len_train - configs['data']['sequence_length']) / configs['training']['batch_size'])\n",
    "steps_per_epoch =int((trainx.shape[0]-configs['training']['sequence_length'])/configs['training']['batch_size'])\n",
    "print(steps_per_epoch)\n",
    "steps_per_epoch_val=int((valx.shape[0]-configs['training']['sequence_length'])/configs['training']['batch_size'])\n",
    "print(steps_per_epoch,steps_per_epoch_val)"
   ]
  },
  {
   "cell_type": "code",
   "execution_count": 10,
   "metadata": {},
   "outputs": [
    {
     "name": "stdout",
     "output_type": "stream",
     "text": [
      "[Model] Training Started\n",
      "[Model] 10 epochs, 25 batch size, 4257 batches per epoch\n",
      "Epoch 1/10\n",
      " - 25s - loss: 1.0437 - val_loss: 1.0377\n",
      "Epoch 2/10\n",
      " - 24s - loss: 1.0177 - val_loss: 1.0253\n",
      "Epoch 3/10\n",
      " - 24s - loss: 1.0060 - val_loss: 1.0197\n",
      "Epoch 4/10\n",
      " - 24s - loss: 0.9937 - val_loss: 1.0118\n",
      "Epoch 5/10\n",
      " - 24s - loss: 0.9834 - val_loss: 1.0112\n",
      "Epoch 6/10\n",
      " - 24s - loss: 0.9712 - val_loss: 1.0140\n",
      "Epoch 7/10\n",
      " - 24s - loss: 0.9613 - val_loss: 1.0164\n",
      "Epoch 8/10\n",
      " - 25s - loss: 0.9525 - val_loss: 1.0151\n",
      "Epoch 9/10\n",
      " - 25s - loss: 0.9451 - val_loss: 1.0102\n",
      "Epoch 10/10\n",
      " - 25s - loss: 0.9359 - val_loss: 1.0113\n",
      "[Model] Training Completed. Model saved as saved_models/09112018-132550-e10.h5\n",
      "Time taken: 0:04:07.094628\n"
     ]
    }
   ],
   "source": [
    "history=model.train_generator(\n",
    "    train_gen=training_generator.GenerateBatch(configs['training']['sequence_length'],\n",
    "                                               configs['training']['batch_size']),\n",
    "    val_gen=val_generator.GenerateBatch(configs['training']['sequence_length'],\n",
    "                                        configs['training']['batch_size']),\n",
    "    epochs=configs['training']['epochs'],\n",
    "    batch_size=configs['training']['batch_size'],\n",
    "    steps_per_epoch=steps_per_epoch,\n",
    "    validation_steps=steps_per_epoch_val,\n",
    "    save_dir=configs['model']['save_dir']\n",
    "    )\n",
    "\n",
    "    "
   ]
  },
  {
   "cell_type": "code",
   "execution_count": 11,
   "metadata": {},
   "outputs": [
    {
     "data": {
      "text/plain": [
       "Text(0,0.5,'Cost')"
      ]
     },
     "execution_count": 11,
     "metadata": {},
     "output_type": "execute_result"
    },
    {
     "data": {
      "image/png": "[encoded data removed]",
      "text/plain": [
       "<matplotlib.figure.Figure at 0x1a54cb7710>"
      ]
     },
     "metadata": {},
     "output_type": "display_data"
    }
   ],
   "source": [
    "\n",
    "plt.figure(figsize=(15,5))\n",
    "plt.plot(history.history['loss'],'b--',lw=2,label='train_loss')\n",
    "plt.plot(history.history['val_loss'],'g-',lw=2,label='val_loss')\n",
    "plt.legend()\n",
    "plt.ylim([.9,1.25])\n",
    "plt.xlabel('Epochs')\n",
    "plt.ylabel('Cost')"
   ]
  },
  {
   "cell_type": "code",
   "execution_count": 68,
   "metadata": {
    "collapsed": true
   },
   "outputs": [],
   "source": [
    "# make our predictions - start from beginning\n",
    "train_gen=training_generator.GenerateBatch(configs['training']['sequence_length'],configs['training']['batch_size'])\n",
    "val_gen=val_generator.GenerateBatch(configs['training']['sequence_length'],configs['training']['batch_size'])"
   ]
  },
  {
   "cell_type": "code",
   "execution_count": 69,
   "metadata": {},
   "outputs": [],
   "source": [
    "y_train=[]\n",
    "yhat_train=[]\n",
    "y_val=[]\n",
    "yhat_val=[]"
   ]
  },
  {
   "cell_type": "code",
   "execution_count": 70,
   "metadata": {},
   "outputs": [],
   "source": [
    "# predict using same sequence lengths and batches as in training\n",
    "for i in range(steps_per_epoch):\n",
    "    dat=next(train_gen)\n",
    "    y_train.append(dat[1])\n",
    "    yhat_train.append(model.model.predict(dat[0]))\n",
    "for i in range(steps_per_epoch_val):\n",
    "    dat=next(val_gen)\n",
    "    y_val.append(dat[1])\n",
    "    yhat_val.append(model.model.predict(dat[0]))\n",
    "                                            "
   ]
  },
  {
   "cell_type": "code",
   "execution_count": 71,
   "metadata": {},
   "outputs": [],
   "source": [
    "y_train=np.array(y_train).reshape(-1,3)\n",
    "yhat_train=np.array(yhat_train).reshape(-1,3)\n",
    "y_val=np.array(y_val).reshape(-1,3)\n",
    "yhat_val=np.array(yhat_val).reshape(-1,3)\n"
   ]
  },
  {
   "cell_type": "code",
   "execution_count": 74,
   "metadata": {},
   "outputs": [
    {
     "name": "stdout",
     "output_type": "stream",
     "text": [
      "Training \n",
      "[[ 31457   1834   9890  43181]\n",
      " [ 12847   5614   3919  22380]\n",
      " [ 23409   1456  15999  40864]\n",
      " [ 67713   8904  29808 106425]]\n",
      "             precision    recall  f1-score   support\n",
      "\n",
      "          0       0.73      0.46      0.57     67713\n",
      "          1       0.25      0.63      0.36      8904\n",
      "          2       0.39      0.54      0.45     29808\n",
      "\n",
      "avg / total       0.59      0.50      0.52    106425\n",
      "\n",
      "cohen kappa score: 0.18707377734414887\n",
      "Test \n",
      "[[ 9597   890  4449 14936]\n",
      " [ 3875   764  2088  6727]\n",
      " [ 7435   828  7074 15337]\n",
      " [20907  2482 13611 37000]]\n",
      "             precision    recall  f1-score   support\n",
      "\n",
      "          0       0.64      0.46      0.54     20907\n",
      "          1       0.11      0.31      0.17      2482\n",
      "          2       0.46      0.52      0.49     13611\n",
      "\n",
      "avg / total       0.54      0.47      0.49     37000\n",
      "\n",
      "cohen kappa score: 0.12917322249804797\n"
     ]
    }
   ],
   "source": [
    "# How well have we done on training data\n",
    "print (\"Training \")\n",
    "Y=np.argmax(y_train,axis=1)\n",
    "Yhat=np.argmax(yhat_train,axis=1)\n",
    "c=confusion_matrix(Y,Yhat)\n",
    "c=np.concatenate((c,np.sum(c,axis=1).reshape(-1,1)),axis=1)\n",
    "c=np.concatenate((c,np.sum(c,axis=0).reshape(1,-1)),axis=0)\n",
    "print(c)\n",
    "print(classification_report(Yhat,Y))\n",
    "print(\"cohen kappa score:\",cohen_kappa_score(Yhat,Y))\n",
    "# How well have we done on test data\n",
    "print(\"Test \")\n",
    "Y=np.argmax(y_val,axis=1)\n",
    "Yhat=np.argmax(yhat_val,axis=1)\n",
    "c=confusion_matrix(Y,Yhat)\n",
    "c=np.concatenate((c,np.sum(c,axis=1).reshape(-1,1)),axis=1)\n",
    "c=np.concatenate((c,np.sum(c,axis=0).reshape(1,-1)),axis=0)\n",
    "print(c)\n",
    "print(classification_report(Yhat,Y))\n",
    "print(\"cohen kappa score:\",cohen_kappa_score(Yhat,Y))"
   ]
  },
  {
   "cell_type": "code",
   "execution_count": null,
   "metadata": {
    "collapsed": true
   },
   "outputs": [],
   "source": []
  }
 ],
 "metadata": {
  "kernelspec": {
   "display_name": "Python 3",
   "language": "python",
   "name": "python3"
  },
  "language_info": {
   "codemirror_mode": {
    "name": "ipython",
    "version": 3
   },
   "file_extension": ".py",
   "mimetype": "text/x-python",
   "name": "python",
   "nbconvert_exporter": "python",
   "pygments_lexer": "ipython3",
   "version": "3.6.3"
  }
 },
 "nbformat": 4,
 "nbformat_minor": 2
}
