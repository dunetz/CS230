{
 "cells": [
  {
   "cell_type": "markdown",
   "metadata": {},
   "source": [
    "#### LSTM Model for Limit Order Book \n",
    "\n",
    "\n",
    "#### 1: Use DataLoader class to create training and dev data sets from zipped files stored in data folder.\n",
    "\n",
    "#### 2: Build and compile model using model class based on configuration in config file.\n",
    "\n",
    "#### 3: Use GenerateBatch class to create itereator to feed batches of sequences of x and y train/val data into model\n",
    "\n",
    "#### 4: Train model using train_generator method from model class\n",
    "\n",
    "#### 5: Plot train loss vs val loss\n",
    "\n",
    "#### 6: Make training and validation predictions using same sequence lengths and batch sizes\n",
    "\n",
    "#### 7: Compute Precision/Recall/F1 statistics and Cohen Kappa\n"
   ]
  },
  {
   "cell_type": "markdown",
   "metadata": {},
   "source": [
    "Changes verus prior version:\n",
    "1. sequence length increased to 10\n",
    "2. epochs increased to 25\n",
    "3. dataset expanded to use 6 training days and 2 val days.\n",
    "\n",
    "\n",
    "Analysis:\n",
    "Of these changes, the increase in sequence had the most significant impact. \n",
    "\n",
    "Val loss now decreases throughout all epoch.\n",
    "Cohen Kappa increased dramatically to 53 and 44 for training and dev respectively (from 19 and 13 before).\n",
    "F1  score increased to 71/63 (from 52/49).\n",
    "\n",
    "\n",
    "Training time per epoch increased from about 55 seconds to nearly 90 seconds.\n",
    "\n",
    "Recommendation\n",
    "Increases in network complexity, sequence length and training time should all be considered.\n",
    "Moving to GPU enviroment (AWS) at this point is also recommended."
   ]
  },
  {
   "cell_type": "code",
   "execution_count": 1,
   "metadata": {
    "collapsed": true
   },
   "outputs": [],
   "source": [
    "import pandas as pd\n",
    "import numpy as np\n",
    "import matplotlib.pylab as plt\n",
    "import time\n",
    "import json\n",
    "%matplotlib inline\n",
    "# \n",
    "from sklearn.metrics import confusion_matrix, classification_report, cohen_kappa_score"
   ]
  },
  {
   "cell_type": "code",
   "execution_count": 2,
   "metadata": {},
   "outputs": [
    {
     "name": "stderr",
     "output_type": "stream",
     "text": [
      "/anaconda3/lib/python3.6/site-packages/h5py/__init__.py:34: FutureWarning: Conversion of the second argument of issubdtype from `float` to `np.floating` is deprecated. In future, it will be treated as `np.float64 == np.dtype(float).type`.\n",
      "  from ._conv import register_converters as _register_converters\n",
      "Using TensorFlow backend.\n"
     ]
    }
   ],
   "source": [
    "import os; \n",
    "#work-around to allow import from directory on same level\n",
    "os.sys.path.append(os.path.dirname(os.path.abspath('.')))\n",
    "from input.DataLoader import DataLoader\n",
    "from input.GenerateBatch import GenerateBatch\n",
    "from model.Model import Model"
   ]
  },
  {
   "cell_type": "code",
   "execution_count": 3,
   "metadata": {
    "collapsed": true
   },
   "outputs": [],
   "source": [
    "from sklearn.preprocessing import MinMaxScaler\n",
    "from keras.models import Sequential\n",
    "from keras.layers import LSTM, Dense, TimeDistributed, Bidirectional, Dropout\n",
    "from keras.utils import to_categorical\n",
    "from keras.metrics import categorical_crossentropy\n",
    "from sklearn.metrics import accuracy_score\n",
    "from scipy.stats import linregress\n",
    "from sklearn.utils import shuffle"
   ]
  },
  {
   "cell_type": "code",
   "execution_count": 4,
   "metadata": {
    "collapsed": true
   },
   "outputs": [],
   "source": [
    "# recover training and test data from zip files. Provide list of days for each\n",
    "traindays=[0,1,2,3,4,5] \n",
    "valdays=[6,7]\n",
    "\n",
    "path='data/'\n",
    "d=DataLoader(path)\n",
    "traindf=d.get_days(traindays)\n",
    "valdf=d.get_days(valdays)\n",
    "\n",
    "# Select X and Y training and dev data. Y is categorical\n",
    "trainx=traindf.iloc[:,range(40)].values\n",
    "trainy=to_categorical(traindf.iloc[:,148].values-1)\n",
    "valx=valdf.iloc[:,range(40)].values\n",
    "valy=to_categorical(valdf.iloc[:,148].values-1)\n"
   ]
  },
  {
   "cell_type": "code",
   "execution_count": 5,
   "metadata": {},
   "outputs": [
    {
     "name": "stdout",
     "output_type": "stream",
     "text": [
      "(217404, 40)\n",
      "(217404, 3)\n"
     ]
    }
   ],
   "source": [
    "print(trainx.shape)\n",
    "print(trainy.shape)"
   ]
  },
  {
   "cell_type": "code",
   "execution_count": 6,
   "metadata": {},
   "outputs": [
    {
     "name": "stdout",
     "output_type": "stream",
     "text": [
      "training {'sequence_length': 10, 'epochs': 25, 'batch_size': 25}\n",
      "model loss: categorical_crossentropy\n",
      "model optimizer: adam\n",
      "save dir: saved_models\n",
      "layer 0\n",
      "{'type': 'lstm', 'neurons': 50, 'input_timesteps': 10, 'input_dim': 40, 'return_seq': False}\n",
      "layer 1\n",
      "{'type': 'dropout', 'rate': 0.2}\n",
      "layer 2\n",
      "{'type': 'dense', 'neurons': 3, 'activation': 'softmax'}\n"
     ]
    }
   ],
   "source": [
    "configs = json.load(open('config2.json', 'r'))\n",
    "if not os.path.exists(configs['model']['save_dir']): os.makedirs(configs['model']['save_dir'])\n",
    "print('training',configs['training'])\n",
    "print('model loss:',configs['model']['loss'])\n",
    "print('model optimizer:',configs['model']['optimizer'])\n",
    "print('save dir:',configs['model']['save_dir'])\n",
    "for i,j in enumerate(configs['model']['layers']):\n",
    "    print('layer %i' %i)\n",
    "    print(j)"
   ]
  },
  {
   "cell_type": "code",
   "execution_count": 7,
   "metadata": {},
   "outputs": [
    {
     "name": "stdout",
     "output_type": "stream",
     "text": [
      "[Model] Model Compiled\n",
      "Time taken: 0:00:00.228115\n",
      "_________________________________________________________________\n",
      "Layer (type)                 Output Shape              Param #   \n",
      "=================================================================\n",
      "lstm_1 (LSTM)                (None, 50)                18200     \n",
      "_________________________________________________________________\n",
      "dropout_1 (Dropout)          (None, 50)                0         \n",
      "_________________________________________________________________\n",
      "dense_1 (Dense)              (None, 3)                 153       \n",
      "=================================================================\n",
      "Total params: 18,353\n",
      "Trainable params: 18,353\n",
      "Non-trainable params: 0\n",
      "_________________________________________________________________\n"
     ]
    }
   ],
   "source": [
    "model = Model()\n",
    "model.build_model(configs)\n",
    "\n",
    "model.model.summary()"
   ]
  },
  {
   "cell_type": "code",
   "execution_count": 8,
   "metadata": {
    "collapsed": true
   },
   "outputs": [],
   "source": [
    "training_generator=GenerateBatch(trainx,trainy)\n",
    "#training_generator.GenerateBatch(configs['training']['sequence_length'],configs['training']['batch_size'])\n",
    "#using same sequence length and batch size for val data \n",
    "val_generator=GenerateBatch(valx,valy)\n",
    "#val_generator.GenerateBatch(configs['training']['sequence_length'],configs['training']['batch_size'])"
   ]
  },
  {
   "cell_type": "code",
   "execution_count": 9,
   "metadata": {},
   "outputs": [
    {
     "name": "stdout",
     "output_type": "stream",
     "text": [
      "8695 3712\n"
     ]
    }
   ],
   "source": [
    "# out-of memory generative training\n",
    "#steps_per_epoch = math.ceil((data.len_train - configs['data']['sequence_length']) / configs['training']['batch_size'])\n",
    "steps_per_epoch =int((trainx.shape[0]-configs['training']['sequence_length'])/configs['training']['batch_size'])\n",
    "steps_per_epoch_val=int((valx.shape[0]-configs['training']['sequence_length'])/configs['training']['batch_size'])\n",
    "print(steps_per_epoch,steps_per_epoch_val)"
   ]
  },
  {
   "cell_type": "code",
   "execution_count": 10,
   "metadata": {},
   "outputs": [
    {
     "name": "stdout",
     "output_type": "stream",
     "text": [
      "[Model] Training Started\n",
      "[Model] 25 epochs, 25 batch size, 8695 batches per epoch\n",
      "Epoch 1/25\n",
      " - 86s - loss: 1.0160 - val_loss: 1.0659\n",
      "Epoch 2/25\n",
      " - 85s - loss: 0.9757 - val_loss: 1.0267\n",
      "Epoch 3/25\n",
      " - 84s - loss: 0.9346 - val_loss: 1.0230\n",
      "Epoch 4/25\n",
      " - 84s - loss: 0.9011 - val_loss: 0.9901\n",
      "Epoch 5/25\n",
      " - 85s - loss: 0.8783 - val_loss: 0.9512\n",
      "Epoch 6/25\n",
      " - 85s - loss: 0.8598 - val_loss: 0.9538\n",
      "Epoch 7/25\n",
      " - 84s - loss: 0.8424 - val_loss: 0.9525\n",
      "Epoch 8/25\n",
      " - 84s - loss: 0.8288 - val_loss: 0.9769\n",
      "Epoch 9/25\n",
      " - 84s - loss: 0.8174 - val_loss: 0.9396\n",
      "Epoch 10/25\n",
      " - 84s - loss: 0.8031 - val_loss: 0.9271\n",
      "Epoch 11/25\n",
      " - 84s - loss: 0.7910 - val_loss: 0.9445\n",
      "Epoch 12/25\n",
      " - 84s - loss: 0.7801 - val_loss: 0.8970\n",
      "Epoch 13/25\n",
      " - 85s - loss: 0.7700 - val_loss: 0.8885\n",
      "Epoch 14/25\n",
      " - 84s - loss: 0.7602 - val_loss: 0.9010\n",
      "Epoch 15/25\n",
      " - 84s - loss: 0.7494 - val_loss: 0.9062\n",
      "Epoch 16/25\n",
      " - 85s - loss: 0.7369 - val_loss: 0.8956\n",
      "Epoch 17/25\n",
      " - 85s - loss: 0.7270 - val_loss: 0.8875\n",
      "Epoch 18/25\n",
      " - 84s - loss: 0.7199 - val_loss: 0.8878\n",
      "Epoch 19/25\n",
      " - 85s - loss: 0.7101 - val_loss: 0.8869\n",
      "Epoch 20/25\n",
      " - 85s - loss: 0.7041 - val_loss: 0.8551\n",
      "Epoch 21/25\n",
      " - 84s - loss: 0.6981 - val_loss: 0.8506\n",
      "Epoch 22/25\n",
      " - 84s - loss: 0.6906 - val_loss: 0.8601\n",
      "Epoch 23/25\n",
      " - 85s - loss: 0.6855 - val_loss: 0.8529\n",
      "Epoch 24/25\n",
      " - 84s - loss: 0.6849 - val_loss: 0.8420\n",
      "Epoch 25/25\n",
      " - 85s - loss: 0.6774 - val_loss: 0.8588\n",
      "[Model] Training Completed. Model saved as saved_models/09112018-175631-e25.h5\n",
      "Time taken: 0:35:15.430540\n"
     ]
    }
   ],
   "source": [
    "history=model.train_generator(\n",
    "    train_gen=training_generator.GenerateBatch(configs['training']['sequence_length'],\n",
    "                                               configs['training']['batch_size']),\n",
    "    val_gen=val_generator.GenerateBatch(configs['training']['sequence_length'],\n",
    "                                        configs['training']['batch_size']),\n",
    "    epochs=configs['training']['epochs'],\n",
    "    batch_size=configs['training']['batch_size'],\n",
    "    steps_per_epoch=steps_per_epoch,\n",
    "    validation_steps=steps_per_epoch_val,\n",
    "    save_dir=configs['model']['save_dir']\n",
    "    )\n",
    "\n",
    "    "
   ]
  },
  {
   "cell_type": "code",
   "execution_count": 19,
   "metadata": {},
   "outputs": [
    {
     "data": {
      "text/plain": [
       "Text(0,0.5,'Cost')"
      ]
     },
     "execution_count": 19,
     "metadata": {},
     "output_type": "execute_result"
    },
    {
     "data": {
      "image/png": "[encoded data removed]",
      "text/plain": [
       "<matplotlib.figure.Figure at 0x11123e128>"
      ]
     },
     "metadata": {},
     "output_type": "display_data"
    }
   ],
   "source": [
    "\n",
    "plt.figure(figsize=(15,5))\n",
    "plt.plot(history.history['loss'],'b--',lw=2,label='train_loss')\n",
    "plt.plot(history.history['val_loss'],'g-',lw=2,label='val_loss')\n",
    "plt.legend()\n",
    "plt.ylim([.5,1.1])\n",
    "plt.xlabel('Epochs')\n",
    "plt.ylabel('Cost')"
   ]
  },
  {
   "cell_type": "code",
   "execution_count": 12,
   "metadata": {
    "collapsed": true
   },
   "outputs": [],
   "source": [
    "# make our predictions - start from beginning\n",
    "train_gen=training_generator.GenerateBatch(configs['training']['sequence_length'],configs['training']['batch_size'])\n",
    "val_gen=val_generator.GenerateBatch(configs['training']['sequence_length'],configs['training']['batch_size'])"
   ]
  },
  {
   "cell_type": "code",
   "execution_count": 13,
   "metadata": {
    "collapsed": true
   },
   "outputs": [],
   "source": [
    "y_train=[]\n",
    "yhat_train=[]\n",
    "y_val=[]\n",
    "yhat_val=[]"
   ]
  },
  {
   "cell_type": "code",
   "execution_count": 14,
   "metadata": {
    "collapsed": true
   },
   "outputs": [],
   "source": [
    "# predict using same sequence lengths and batches as in training\n",
    "for i in range(steps_per_epoch):\n",
    "    dat=next(train_gen)\n",
    "    y_train.append(dat[1])\n",
    "    yhat_train.append(model.model.predict(dat[0]))\n",
    "for i in range(steps_per_epoch_val):\n",
    "    dat=next(val_gen)\n",
    "    y_val.append(dat[1])\n",
    "    yhat_val.append(model.model.predict(dat[0]))\n",
    "                                            "
   ]
  },
  {
   "cell_type": "code",
   "execution_count": 15,
   "metadata": {
    "collapsed": true
   },
   "outputs": [],
   "source": [
    "burn_in=300 # drop early predictions \n",
    "y_train=np.array(y_train).reshape(-1,3)[burn_in:]\n",
    "yhat_train=np.array(yhat_train).reshape(-1,3)[burn_in:]\n",
    "y_val=np.array(y_val).reshape(-1,3)[burn_in:]\n",
    "yhat_val=np.array(yhat_val).reshape(-1,3)[burn_in:]\n"
   ]
  },
  {
   "cell_type": "code",
   "execution_count": 16,
   "metadata": {},
   "outputs": [
    {
     "name": "stdout",
     "output_type": "stream",
     "text": [
      "Training \n",
      "[[ 62037   5021  20699  87757]\n",
      " [  8946  24945   9006  42897]\n",
      " [ 15929   4541  65951  86421]\n",
      " [ 86912  34507  95656 217075]]\n",
      "             precision    recall  f1-score   support\n",
      "\n",
      "          0       0.71      0.71      0.71     86912\n",
      "          1       0.58      0.72      0.64     34507\n",
      "          2       0.76      0.69      0.72     95656\n",
      "\n",
      "avg / total       0.71      0.70      0.71    217075\n",
      "\n",
      "cohen kappa score: 0.5319394390438492\n",
      "Test \n",
      "[[21807  2967  9099 33873]\n",
      " [ 6654 14593  6662 27909]\n",
      " [ 6133  2572 22013 30718]\n",
      " [34594 20132 37774 92500]]\n",
      "             precision    recall  f1-score   support\n",
      "\n",
      "          0       0.64      0.63      0.64     34594\n",
      "          1       0.52      0.72      0.61     20132\n",
      "          2       0.72      0.58      0.64     37774\n",
      "\n",
      "avg / total       0.65      0.63      0.63     92500\n",
      "\n",
      "cohen kappa score: 0.44314501975840936\n"
     ]
    }
   ],
   "source": [
    "# How well have we done on training data\n",
    "print (\"Training \")\n",
    "Y=np.argmax(y_train,axis=1)\n",
    "Yhat=np.argmax(yhat_train,axis=1)\n",
    "c=confusion_matrix(Y,Yhat)\n",
    "c=np.concatenate((c,np.sum(c,axis=1).reshape(-1,1)),axis=1)\n",
    "c=np.concatenate((c,np.sum(c,axis=0).reshape(1,-1)),axis=0)\n",
    "print(c)\n",
    "print(classification_report(Yhat,Y))\n",
    "print(\"cohen kappa score:\",cohen_kappa_score(Yhat,Y))\n",
    "# How well have we done on test data\n",
    "print(\"Test \")\n",
    "Y=np.argmax(y_val,axis=1)\n",
    "Yhat=np.argmax(yhat_val,axis=1)\n",
    "c=confusion_matrix(Y,Yhat)\n",
    "c=np.concatenate((c,np.sum(c,axis=1).reshape(-1,1)),axis=1)\n",
    "c=np.concatenate((c,np.sum(c,axis=0).reshape(1,-1)),axis=0)\n",
    "print(c)\n",
    "print(classification_report(Yhat,Y))\n",
    "print(\"cohen kappa score:\",cohen_kappa_score(Yhat,Y))"
   ]
  },
  {
   "cell_type": "code",
   "execution_count": null,
   "metadata": {
    "collapsed": true
   },
   "outputs": [],
   "source": []
  }
 ],
 "metadata": {
  "kernelspec": {
   "display_name": "Python 3",
   "language": "python",
   "name": "python3"
  },
  "language_info": {
   "codemirror_mode": {
    "name": "ipython",
    "version": 3
   },
   "file_extension": ".py",
   "mimetype": "text/x-python",
   "name": "python",
   "nbconvert_exporter": "python",
   "pygments_lexer": "ipython3",
   "version": "3.6.3"
  }
 },
 "nbformat": 4,
 "nbformat_minor": 2
}
